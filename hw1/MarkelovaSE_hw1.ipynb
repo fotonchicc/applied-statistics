{
 "cells": [
  {
   "cell_type": "code",
   "execution_count": 73,
   "id": "c715bf8f-f978-48fe-9b60-65b7160df1ac",
   "metadata": {},
   "outputs": [],
   "source": [
    "import random\n",
    "import numpy as np"
   ]
  },
  {
   "cell_type": "markdown",
   "id": "30f042c5-74fa-4e5a-b903-a53fddd335e9",
   "metadata": {},
   "source": [
    "### **Задача 1. «Однорукий бандит»**\n",
    "\n",
    "Пусть имеется игровой автомат с ручкой, с помощью которой его запускают\n",
    "для игры – «однорукий бандит». Предположим, что игра ведётся по\n",
    "следующей схеме:\n",
    "1) В начальный момент времени у игрока есть одна монета\n",
    "2) Вероятность выигрыша при запуске игры – 0.5. При выигрыше игрок\n",
    "получает 1 монету. При проигрыше, соответственно, теряет 1 монету.\n",
    "3) Игра заканчивается либо если игрок обанкротится (поражение), либо\n",
    "если выиграет 10 монет (победа).\n",
    "\n",
    "Определить вероятность выигрыша. Также оценить среднее число шагов,\n",
    "требующееся для победы и для поражения."
   ]
  },
  {
   "cell_type": "code",
   "execution_count": 76,
   "id": "e040a4fc-660c-4ccf-92fd-72b444109962",
   "metadata": {},
   "outputs": [],
   "source": [
    "def simulate_game():\n",
    "    \"\"\"Симулирует одну игру\"\"\"\n",
    "    coins = 1\n",
    "    steps = 0\n",
    "    while coins and coins != 10:\n",
    "        game_result = 1 if random.random() < 0.5 else 0\n",
    "        if game_result:\n",
    "            coins += 1\n",
    "        else:\n",
    "            coins -= 1\n",
    "        steps += 1\n",
    "    return coins == 10, steps"
   ]
  },
  {
   "cell_type": "code",
   "execution_count": 78,
   "id": "b570aec3-2c40-4298-98ae-660751168a28",
   "metadata": {},
   "outputs": [],
   "source": [
    "def monte_carlo_games_simulation(num_simulations):\n",
    "    \"\"\"Проводит серию симуляций игр методом Монте-Карло\"\"\"\n",
    "    wins = 0\n",
    "    total_steps_win = 0 \n",
    "    total_steps_loss = 0 \n",
    "    for _ in range(num_simulations):\n",
    "        win, steps = simulate_game()\n",
    "        if win:\n",
    "            total_steps_win += steps\n",
    "            wins += 1\n",
    "        else:\n",
    "            total_steps_loss += steps\n",
    "    wins_probability = wins / num_simulations\n",
    "    losses = num_simulations - wins\n",
    "    average_steps_win = total_steps_win / wins if wins > 0 else 0\n",
    "    average_steps_loss = total_steps_loss / losses if losses > 0 else 0\n",
    "    return wins_probability, average_steps_win, average_steps_loss"
   ]
  },
  {
   "cell_type": "code",
   "execution_count": 80,
   "id": "4b09758b-4f57-4e79-92a8-2fad26e35493",
   "metadata": {},
   "outputs": [],
   "source": [
    "num_simulations = 1_000_000"
   ]
  },
  {
   "cell_type": "code",
   "execution_count": 82,
   "id": "83b6c630-d136-438a-8705-d4af91fad459",
   "metadata": {},
   "outputs": [],
   "source": [
    "wins_probability, average_steps_win, average_steps_loss = monte_carlo_games_simulation(num_simulations)"
   ]
  },
  {
   "cell_type": "code",
   "execution_count": 83,
   "id": "3b19d1b2-12ff-48d3-9de2-960e90e770eb",
   "metadata": {},
   "outputs": [
    {
     "name": "stdout",
     "output_type": "stream",
     "text": [
      "ОТВЕТ:\n",
      "Вероятность выигрыша: 0.0997\n",
      "Среднее число шагов, требующееся для победы: 33.03\n",
      "Среднее число шагов, требующееся для поражения: 6.31\n"
     ]
    }
   ],
   "source": [
    "print(\"ОТВЕТ:\")\n",
    "print(f\"Вероятность выигрыша: {wins_probability:.4f}\")\n",
    "print(f\"Среднее число шагов, требующееся для победы: {average_steps_win:.2f}\")\n",
    "print(f\"Среднее число шагов, требующееся для поражения: {average_steps_loss:.2f}\")"
   ]
  },
  {
   "cell_type": "markdown",
   "id": "82975813-351f-4eb9-a817-7bcf321dc38c",
   "metadata": {},
   "source": [
    "### **Задача 2. Распределение зерен по шахматной доске.**\n",
    "На шахматную доску случайным образом бросают 64 зерна. Определить, как\n",
    "зерна по количеству распределятся в клетках – то есть, сколько в среднем\n",
    "клеток будет содержать N зёрен для каждого N."
   ]
  },
  {
   "cell_type": "code",
   "execution_count": 87,
   "id": "02be791e-8007-4ccb-aab1-2698cf5108df",
   "metadata": {},
   "outputs": [],
   "source": [
    "def simulate_throw():\n",
    "    \"\"\"Симулирует один бросок\"\"\"\n",
    "    board = np.zeros(64, dtype=int)\n",
    "    for _ in range(64):\n",
    "        grain = random.randint(0, 63)\n",
    "        board[grain] += 1\n",
    "    grain_distribution = np.zeros(64, dtype=int)\n",
    "    for quantity in board:\n",
    "        grain_distribution[quantity] += 1\n",
    "    return grain_distribution"
   ]
  },
  {
   "cell_type": "code",
   "execution_count": 89,
   "id": "e11fcbb5-da44-4bc1-8084-da0757eb8c8e",
   "metadata": {},
   "outputs": [],
   "source": [
    "def monte_carlo_throws_simulation(num_simulations):\n",
    "    \"\"\"Проводит серию симуляций бросков методом Монте-Карло\"\"\"\n",
    "    total_grain_distribution = np.zeros(64, dtype=int)\n",
    "    for _ in range(num_simulations):\n",
    "        grain_distribution = simulate_throw()\n",
    "        total_grain_distribution += grain_distribution\n",
    "    average_grain_distribution = total_grain_distribution / num_simulations\n",
    "    len_distribution = 0\n",
    "    while average_grain_distribution[len_distribution]:\n",
    "        len_distribution += 1\n",
    "    return average_grain_distribution[:len_distribution]"
   ]
  },
  {
   "cell_type": "code",
   "execution_count": 91,
   "id": "2b3eda49-16fe-4a29-861a-bb03d11b64e2",
   "metadata": {},
   "outputs": [],
   "source": [
    "num_simulations = 100_000"
   ]
  },
  {
   "cell_type": "code",
   "execution_count": 93,
   "id": "0ac07add-af62-4f5f-ab68-0a8cccbb511b",
   "metadata": {},
   "outputs": [],
   "source": [
    "average_grain_distribution = monte_carlo_throws_simulation(num_simulations)"
   ]
  },
  {
   "cell_type": "code",
   "execution_count": 94,
   "id": "9494b11b-f6a0-435f-b15c-75db9e063494",
   "metadata": {},
   "outputs": [
    {
     "name": "stdout",
     "output_type": "stream",
     "text": [
      "ОТВЕТ:\n",
      "Среднее количество клеток с N зернами:\n",
      "N = 0: 23.3630\n",
      "N = 1: 23.7286\n",
      "N = 2: 11.8627\n",
      "N = 3: 3.8861\n",
      "N = 4: 0.9480\n",
      "N = 5: 0.1791\n",
      "N = 6: 0.0282\n",
      "N = 7: 0.0037\n",
      "N = 8: 0.0005\n",
      "N = 9: 0.0000\n",
      "N = 10: 0.0000\n"
     ]
    }
   ],
   "source": [
    "print(\"ОТВЕТ:\")\n",
    "print(\"Среднее количество клеток с N зернами:\")\n",
    "for N, count in enumerate(average_grain_distribution):\n",
    "    print(f\"N = {N}: {count:.4f}\")"
   ]
  },
  {
   "cell_type": "markdown",
   "id": "46304be0-237b-41df-8975-82868d7b3d7d",
   "metadata": {},
   "source": [
    "### **Задача 3. Порядок на экзамене**\n",
    "Экзамен проходит по следующей схеме: если некоторый билет уже был\n",
    "вытянут, то после ответа экзаменатор откладывает его в сторону. Студент\n",
    "выучил 20 билетов из 30. Когда ему выгоднее идти - первым или вторым,\n",
    "чтобы вероятность вынуть выученный билет была больше?"
   ]
  },
  {
   "cell_type": "code",
   "execution_count": 98,
   "id": "5916ea5b-8865-465c-b977-01f3458bbd25",
   "metadata": {},
   "outputs": [],
   "source": [
    "total_tickets = 30\n",
    "learned_tickets = 20"
   ]
  },
  {
   "cell_type": "markdown",
   "id": "a1409fdc-c101-4ba3-a4cf-50e80c7b6ef3",
   "metadata": {},
   "source": [
    "#### 1) Напрямую вычисляем вероятности"
   ]
  },
  {
   "cell_type": "code",
   "execution_count": 101,
   "id": "fb256924-a6fa-46e2-8699-fef892df5e4f",
   "metadata": {},
   "outputs": [],
   "source": [
    "# Вероятность вытянуть выученный билет, если идти первым\n",
    "P1 = learned_tickets / total_tickets"
   ]
  },
  {
   "cell_type": "code",
   "execution_count": 103,
   "id": "eaeb0bd8-1f8b-465a-b946-3f79ad92e9c8",
   "metadata": {},
   "outputs": [],
   "source": [
    "# Вероятность вытянуть выученный билет, если идти вторым\n",
    "P2_first_outcome = (learned_tickets - 1) / (total_tickets - 1) * P1 # если первый студент вытянул выученный билет\n",
    "P2_second_outcome = learned_tickets / (total_tickets - 1) * (1 - P1) # если первый студент вытянул невыученный билет\n",
    "P2 = P2_first_outcome + P2_second_outcome"
   ]
  },
  {
   "cell_type": "code",
   "execution_count": 105,
   "id": "30da0562-57b0-44b8-bf74-14e801cf4f31",
   "metadata": {},
   "outputs": [
    {
     "name": "stdout",
     "output_type": "stream",
     "text": [
      "Если студент пошел отвечать первым, вероятность вытянуть выученный билет - 0.6667\n",
      "Если студент пошел отвечать вторым, вероятность вытянуть выученный билет - 0.6667\n"
     ]
    }
   ],
   "source": [
    "print(f\"Если студент пошел отвечать первым, вероятность вытянуть выученный билет - {P1:.4f}\")\n",
    "print(f\"Если студент пошел отвечать вторым, вероятность вытянуть выученный билет - {P2:.4f}\")"
   ]
  },
  {
   "cell_type": "markdown",
   "id": "aee17058-e252-4041-ac5b-db1ae8575d7c",
   "metadata": {
    "jp-MarkdownHeadingCollapsed": true
   },
   "source": [
    "##### ОТВЕТ: Студенту безразлично, идти первым или вторым, так как вероятности вытянуть выученный билет в обоих случаях равны."
   ]
  },
  {
   "cell_type": "markdown",
   "id": "62ec4754-c787-4c85-a038-b381308bca16",
   "metadata": {},
   "source": [
    "#### 2) Симуляция методом Монте-Карло"
   ]
  },
  {
   "cell_type": "code",
   "execution_count": 125,
   "id": "0e86f65f-412e-45a0-921c-634206b7b8b6",
   "metadata": {},
   "outputs": [],
   "source": [
    "def monte_carlo_exam_simulation(num_simulations):\n",
    "    \"\"\"Проводит серию симуляций экзамена методом Монте-Карло\"\"\"\n",
    "    success_first = 0\n",
    "    success_second = 0\n",
    "    for _ in range(num_simulations):\n",
    "        tickets = [True] * learned_tickets + [False] * (total_tickets - learned_tickets)\n",
    "        random.shuffle(tickets)\n",
    "\n",
    "        first_ticket = tickets.pop()\n",
    "        if first_ticket:\n",
    "            success_first += 1\n",
    "            \n",
    "        second_ticket = tickets.pop()\n",
    "        if second_ticket:\n",
    "            success_second += 1\n",
    "\n",
    "    P1 = success_first / num_simulations\n",
    "    P2 = success_second / num_simulations\n",
    "\n",
    "    return P1, P2"
   ]
  },
  {
   "cell_type": "code",
   "execution_count": 127,
   "id": "383681af-4c95-4d6b-a1ae-e6446709cd18",
   "metadata": {},
   "outputs": [],
   "source": [
    "num_simulations = 100_000"
   ]
  },
  {
   "cell_type": "code",
   "execution_count": 129,
   "id": "00869d0b-c0fc-42a7-8170-6be9d5a07174",
   "metadata": {},
   "outputs": [],
   "source": [
    "P1, P2 = monte_carlo_exam_simulation(num_simulations)"
   ]
  },
  {
   "cell_type": "code",
   "execution_count": 130,
   "id": "31ed4cff-4ca3-4ac1-b2a1-68fdd47d1332",
   "metadata": {},
   "outputs": [
    {
     "name": "stdout",
     "output_type": "stream",
     "text": [
      "Если студент пошел отвечать первым, вероятность вытянуть выученный билет - 0.6672\n",
      "Если студент пошел отвечать вторым, вероятность вытянуть выученный билет - 0.6683\n"
     ]
    }
   ],
   "source": [
    "print(f\"Если студент пошел отвечать первым, вероятность вытянуть выученный билет - {P1:.4f}\")\n",
    "print(f\"Если студент пошел отвечать вторым, вероятность вытянуть выученный билет - {P2:.4f}\")"
   ]
  },
  {
   "cell_type": "markdown",
   "id": "ed64f45f-2519-4e62-a164-f187026b1879",
   "metadata": {},
   "source": [
    "##### ОТВЕТ: Студенту безразлично, идти первым или вторым, так как вероятности вытянуть выученный билет в обоих случаях равны."
   ]
  },
  {
   "cell_type": "code",
   "execution_count": null,
   "id": "26a441b5-46aa-4dd9-abd1-6f0506c1b801",
   "metadata": {},
   "outputs": [],
   "source": []
  }
 ],
 "metadata": {
  "kernelspec": {
   "display_name": "Python 3 (ipykernel)",
   "language": "python",
   "name": "python3"
  },
  "language_info": {
   "codemirror_mode": {
    "name": "ipython",
    "version": 3
   },
   "file_extension": ".py",
   "mimetype": "text/x-python",
   "name": "python",
   "nbconvert_exporter": "python",
   "pygments_lexer": "ipython3",
   "version": "3.9.21"
  }
 },
 "nbformat": 4,
 "nbformat_minor": 5
}
