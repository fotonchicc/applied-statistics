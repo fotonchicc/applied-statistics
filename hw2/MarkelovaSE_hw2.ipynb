{
 "cells": [
  {
   "cell_type": "code",
   "execution_count": 1,
   "id": "8f28c8c7-a1f5-4d5a-b789-847dd8e13f8b",
   "metadata": {},
   "outputs": [],
   "source": [
    "# !pip install openpyxl\n",
    "# !pip install statsmodels"
   ]
  },
  {
   "cell_type": "code",
   "execution_count": 2,
   "id": "82bdf77b-4144-40cc-8883-6c7495d41cf9",
   "metadata": {},
   "outputs": [],
   "source": [
    "import random\n",
    "import numpy as np\n",
    "import pandas as pd\n",
    "from math import sqrt\n",
    "import statsmodels.api as sm\n",
    "from scipy.stats import binom, chi2_contingency, fisher_exact, f_oneway, shapiro, levene\n",
    "from statsmodels.formula.api import ols\n",
    "from statsmodels.stats.multicomp import pairwise_tukeyhsd\n",
    "import seaborn as sns\n",
    "import matplotlib.pyplot as plt"
   ]
  },
  {
   "cell_type": "markdown",
   "id": "2832af7a-28ef-4fde-9ac1-58e02e90db15",
   "metadata": {},
   "source": [
    "### **Задача 1. Проверка эффективности рекламы.**\n",
    "Фирма рассылает рекламные каталоги возможным заказчикам. По данным\n",
    "аналитиков, вероятность того, что организация получившая каталог, закажет\n",
    "рекламируемое изделие, равна 0,08.\n",
    "Фирма разослала 1000 каталогов новой, улучшенной, формы и получила 100\n",
    "заказов. Выяснить на уровне значимости 0.05, можно ли утверждать, что\n",
    "обновлённая форма существенно лучше прежней."
   ]
  },
  {
   "cell_type": "markdown",
   "id": "4ddc9607-7899-4d2e-83b3-bd6781a02358",
   "metadata": {},
   "source": [
    "**РЕШЕНИЕ**"
   ]
  },
  {
   "cell_type": "markdown",
   "id": "2da0c295-4ddc-44c6-9fb6-fd50f4a73234",
   "metadata": {},
   "source": [
    "**Выбранный статистический метод**: биномиальный тест, так как мы сравниваем доли бинарных переменных (заказ/не заказ) в одной группе."
   ]
  },
  {
   "cell_type": "markdown",
   "id": "dcddc1ed-fe1f-4bcc-b5f2-eacb7e1c868c",
   "metadata": {},
   "source": [
    "$H_0: P_{new} = 0.08$\n",
    "\n",
    "$H_1: P_{new} \\gt 0.08$"
   ]
  },
  {
   "cell_type": "code",
   "execution_count": 3,
   "id": "04e3b856-2f83-4e44-ab1a-02e958ac41ba",
   "metadata": {},
   "outputs": [],
   "source": [
    "P_0 = 0.08\n",
    "n = 1000\n",
    "orders = 100\n",
    "alpha = 0.05"
   ]
  },
  {
   "cell_type": "code",
   "execution_count": 4,
   "id": "fb642cb1-8831-44c2-8603-45daf448d4ff",
   "metadata": {},
   "outputs": [
    {
     "name": "stdout",
     "output_type": "stream",
     "text": [
      "P-значение: 0.0135\n"
     ]
    }
   ],
   "source": [
    "p_value = 1 - binom.cdf(orders - 1, n, P_0)\n",
    "print(f\"P-значение: {p_value:.4f}\")"
   ]
  },
  {
   "cell_type": "code",
   "execution_count": 5,
   "id": "be7293ac-c587-4fcc-a982-96be68f6607c",
   "metadata": {},
   "outputs": [
    {
     "name": "stdout",
     "output_type": "stream",
     "text": [
      "Отвергаем H0: обновлённая форма каталога лучше\n"
     ]
    }
   ],
   "source": [
    "if p_value < alpha:\n",
    "    print(\"Отвергаем H0: обновлённая форма каталога лучше\")\n",
    "else:\n",
    "    print(\"Нет оснований отвергать H0: улучшение не доказано\")"
   ]
  },
  {
   "cell_type": "code",
   "execution_count": null,
   "id": "980b39c6-a1a8-4a0a-a188-ce6e6f570098",
   "metadata": {},
   "outputs": [],
   "source": []
  },
  {
   "cell_type": "markdown",
   "id": "0060c4fd-4327-4d7b-b8b7-d6d6c5025aa4",
   "metadata": {},
   "source": [
    "### **Задача 2. Сравнение стилей интервью**\n",
    "Предположим, мы исследуем влияние стиля интервьюера (мы выделили 3\n",
    "стиля - резкий, формальный и дружелюбный) на число респондентов,\n",
    "которые согласятся дать ответы на личные вопросы в очном опросе. У нас\n",
    "было 300 респондентов, которые были равномерно разделены на 3 группы.\n",
    "В итоге в первой группе согласилось ответить 45 человек, во второй - 80, а в\n",
    "третьей - 69. Что можно сказать о влиянии стиля на расположенность\n",
    "респондентов к ответу?"
   ]
  },
  {
   "cell_type": "markdown",
   "id": "fdb9610c-5545-4e18-b126-56b7df5acd20",
   "metadata": {},
   "source": [
    "**РЕШЕНИЕ**"
   ]
  },
  {
   "cell_type": "markdown",
   "id": "a75a81a3-bb95-4805-bbe3-15e476fae28e",
   "metadata": {},
   "source": [
    "**Выбранный статистический метод**: хи-квадрат тест, так как мы исследуем зависимость между двумя категориальными переменными: \"стиль интервьюера\" и \"согласие респондента\"."
   ]
  },
  {
   "cell_type": "markdown",
   "id": "59d90953-7e0b-49f2-bb1d-b0f5e6cdb9e8",
   "metadata": {},
   "source": [
    "$H_0$: Стиль интервьюера не влияет на расположенность респондентов к ответу.\n",
    "\n",
    "$H_1$: Стиль интервьюера влияет на расположенность респондентов к ответу."
   ]
  },
  {
   "cell_type": "code",
   "execution_count": 6,
   "id": "3f3d9ea2-f94f-4616-9953-c38c96c3cf7c",
   "metadata": {},
   "outputs": [],
   "source": [
    "observed = np.array([\n",
    "    [45, 55],\n",
    "    [80, 20],\n",
    "    [69, 31]\n",
    "])\n",
    "alpha = 0.05"
   ]
  },
  {
   "cell_type": "code",
   "execution_count": 7,
   "id": "a49f041a-2d40-47f4-bf2d-25a6da5b2e92",
   "metadata": {},
   "outputs": [],
   "source": [
    "chi2, p_value, dof, expected = chi2_contingency(observed)"
   ]
  },
  {
   "cell_type": "code",
   "execution_count": 8,
   "id": "77cb1e72-d154-46a4-9452-99455a7c3184",
   "metadata": {},
   "outputs": [
    {
     "name": "stdout",
     "output_type": "stream",
     "text": [
      "Хи-квадрат статистика: 28.04\n",
      "P-значение: 0.0000\n",
      "Степени свободы: 2\n",
      "Ожидаемые частоты:\n",
      "[[64.66666667 35.33333333]\n",
      " [64.66666667 35.33333333]\n",
      " [64.66666667 35.33333333]]\n"
     ]
    }
   ],
   "source": [
    "print(f\"Хи-квадрат статистика: {chi2:.2f}\")\n",
    "print(f\"P-значение: {p_value:.4f}\")\n",
    "print(f\"Степени свободы: {dof}\")\n",
    "print(\"Ожидаемые частоты:\")\n",
    "print(expected)"
   ]
  },
  {
   "cell_type": "code",
   "execution_count": 9,
   "id": "ab4b198e-a421-4c36-846b-31ecee0253ba",
   "metadata": {},
   "outputs": [
    {
     "name": "stdout",
     "output_type": "stream",
     "text": [
      "Отвергаем H0: стиль интервьюера влияет на расположенность респондентов к ответу\n"
     ]
    }
   ],
   "source": [
    "if p_value < alpha:\n",
    "    print(\"Отвергаем H0: стиль интервьюера влияет на расположенность респондентов к ответу\")\n",
    "else:\n",
    "    print(\"Нет оснований отвергать H0: стиль интервьюера не влияет на расположенность респондентов к ответу\")"
   ]
  },
  {
   "cell_type": "code",
   "execution_count": null,
   "id": "a8f04e00-057e-48e9-a373-cd892abcdc54",
   "metadata": {},
   "outputs": [],
   "source": []
  },
  {
   "cell_type": "markdown",
   "id": "6795269a-5896-40c4-b599-4c41a0d1a8e8",
   "metadata": {},
   "source": [
    "### **Задача 3. Выявление экстрасенсорики.**\n",
    "Предположим, что к нам пришёл человек и утверждает, что может на основе\n",
    "предмета, принадлежащего кому-либо, определить, является ли данный\n",
    "человек преступником. Мы провели строго контролируемый\n",
    "рандомизированный эксперимент, после чего выяснилось следующее:\n",
    "- Когда предмет принадлежал преступнику, человек определил это\n",
    "верно в 7 случаях и неверно в 5\n",
    "- Когда предмет принадлежал НЕ преступнику, человек определил это\n",
    "верно в 40 случаях и неверно в 31\n",
    "\n",
    "Что мы можем сказать о его экстрасенсорных способностях?"
   ]
  },
  {
   "cell_type": "markdown",
   "id": "ab5d12b2-8199-4eda-b4da-b13d6b6c33d6",
   "metadata": {},
   "source": [
    "**РЕШЕНИЕ**"
   ]
  },
  {
   "cell_type": "markdown",
   "id": "d7a233fe-effc-48f0-9157-a5c5fb507923",
   "metadata": {},
   "source": [
    "**Выбранный статистический метод**: хи-квадрат тест, так как он проверяет независимость между двумя категориальными переменными: \"реальный статус\" (преступник/не преступник) и \"ответ человека\" (угадал/не угадал)."
   ]
  },
  {
   "cell_type": "markdown",
   "id": "d2eaed38-1c92-4c7c-9bed-f812733e5f91",
   "metadata": {},
   "source": [
    "$H_0$: Человек не обладает экстрасенсорными способностями\n",
    "\n",
    "$H_1$: Человек обладает экстрасенсорными способностями"
   ]
  },
  {
   "cell_type": "code",
   "execution_count": 10,
   "id": "c4939164-03db-4c2f-8c2c-63f67178b9e4",
   "metadata": {},
   "outputs": [],
   "source": [
    "observed = np.array([\n",
    "    [7, 5],\n",
    "    [40, 31]\n",
    "])\n",
    "alpha = 0.05"
   ]
  },
  {
   "cell_type": "code",
   "execution_count": 11,
   "id": "d3a0ef47-14a2-4560-85b8-37dedcc78e1b",
   "metadata": {},
   "outputs": [],
   "source": [
    "chi2, p_value, dof, expected = chi2_contingency(observed)"
   ]
  },
  {
   "cell_type": "code",
   "execution_count": 12,
   "id": "bc9ab217-d1c1-491e-84a3-99c69ea751b9",
   "metadata": {},
   "outputs": [
    {
     "name": "stdout",
     "output_type": "stream",
     "text": [
      "Хи-квадрат статистика: 0.00\n",
      "P-значение: 1.0000\n",
      "Степени свободы: 1\n",
      "Ожидаемые частоты:\n",
      "[[ 6.79518072  5.20481928]\n",
      " [40.20481928 30.79518072]]\n"
     ]
    }
   ],
   "source": [
    "print(f\"Хи-квадрат статистика: {chi2:.2f}\")\n",
    "print(f\"P-значение: {p_value:.4f}\")\n",
    "print(f\"Степени свободы: {dof}\")\n",
    "print(\"Ожидаемые частоты:\")\n",
    "print(expected)"
   ]
  },
  {
   "cell_type": "code",
   "execution_count": 13,
   "id": "51d9882d-51bb-48e4-971c-6b184ad21da6",
   "metadata": {},
   "outputs": [
    {
     "name": "stdout",
     "output_type": "stream",
     "text": [
      "Нет оснований отвергать H0: человек угадывает случайно\n"
     ]
    }
   ],
   "source": [
    "if p_value < alpha:\n",
    "    print(\"Отвергаем H0: человек обладает экстрасенсорными способностями\")\n",
    "else:\n",
    "    print(\"Нет оснований отвергать H0: человек угадывает случайно\")"
   ]
  },
  {
   "cell_type": "markdown",
   "id": "2febed48-7139-423d-ac3f-dd7038f05785",
   "metadata": {},
   "source": [
    "### **Задача 4. Проверка связи на основе малых данных.**\n",
    "Предположим, мы хотим знать, связан ли пол с предпочтениями\n",
    "политической партии. Мы берем простую случайную выборку из 25\n",
    "избирателей и опрашиваем их об их предпочтениях в отношении\n",
    "политических партий. В следующей таблице представлены результаты\n",
    "опроса:"
   ]
  },
  {
   "cell_type": "code",
   "execution_count": 14,
   "id": "a3553f22-bd93-40bd-8bba-ef14222e99a5",
   "metadata": {},
   "outputs": [
    {
     "data": {
      "text/html": [
       "<div>\n",
       "<style scoped>\n",
       "    .dataframe tbody tr th:only-of-type {\n",
       "        vertical-align: middle;\n",
       "    }\n",
       "\n",
       "    .dataframe tbody tr th {\n",
       "        vertical-align: top;\n",
       "    }\n",
       "\n",
       "    .dataframe thead th {\n",
       "        text-align: right;\n",
       "    }\n",
       "</style>\n",
       "<table border=\"1\" class=\"dataframe\">\n",
       "  <thead>\n",
       "    <tr style=\"text-align: right;\">\n",
       "      <th></th>\n",
       "      <th>Democrat</th>\n",
       "      <th>Republican</th>\n",
       "      <th>Total</th>\n",
       "    </tr>\n",
       "  </thead>\n",
       "  <tbody>\n",
       "    <tr>\n",
       "      <th>Male</th>\n",
       "      <td>4</td>\n",
       "      <td>9</td>\n",
       "      <td>13</td>\n",
       "    </tr>\n",
       "    <tr>\n",
       "      <th>Female</th>\n",
       "      <td>8</td>\n",
       "      <td>4</td>\n",
       "      <td>12</td>\n",
       "    </tr>\n",
       "    <tr>\n",
       "      <th>Total</th>\n",
       "      <td>12</td>\n",
       "      <td>13</td>\n",
       "      <td>25</td>\n",
       "    </tr>\n",
       "  </tbody>\n",
       "</table>\n",
       "</div>"
      ],
      "text/plain": [
       "        Democrat  Republican  Total\n",
       "Male           4           9     13\n",
       "Female         8           4     12\n",
       "Total         12          13     25"
      ]
     },
     "execution_count": 14,
     "metadata": {},
     "output_type": "execute_result"
    }
   ],
   "source": [
    "data = {\n",
    "    'Democrat': [4, 8, 12],\n",
    "    'Republican': [9, 4, 13],\n",
    "    'Total': [13, 12, 25]\n",
    "}\n",
    "\n",
    "index = ['Male', 'Female', 'Total']\n",
    "\n",
    "df = pd.DataFrame(data, index=index)\n",
    "df"
   ]
  },
  {
   "cell_type": "markdown",
   "id": "ea0facc8-77ad-434a-97db-192962e9d802",
   "metadata": {},
   "source": [
    "Необходимо проверить, связан ли пол с предпочтениями или нет."
   ]
  },
  {
   "cell_type": "markdown",
   "id": "d23771ed-7e46-4504-a506-b2b0e5341040",
   "metadata": {},
   "source": [
    "**РЕШЕНИЕ**"
   ]
  },
  {
   "cell_type": "markdown",
   "id": "8b13490c-741f-438b-9206-018be91dc6a5",
   "metadata": {},
   "source": [
    "**Выбранный статистический метод**: точный тест Фишера, так как он проверяет независимость между двумя категориальными переменными при малом количестве наблюдений (в данном задании асимптотика для хи-квадрат теста не выполняется (малый размер выборки и ожидаемые частоты в ячейках таблицы))."
   ]
  },
  {
   "cell_type": "markdown",
   "id": "22c8d134-c276-4002-993d-5ac4cb382455",
   "metadata": {},
   "source": [
    "$H_0$: Пол и предпочтения политической партии не связаны (независимы). \n",
    "\n",
    "$H_1$: Пол и предпочтения политической партии связаны (зависимы)."
   ]
  },
  {
   "cell_type": "code",
   "execution_count": 15,
   "id": "12b76f99-e9e1-439e-a57b-f67b7f7e5c11",
   "metadata": {},
   "outputs": [],
   "source": [
    "observed = [\n",
    "    [4, 9],\n",
    "    [8, 4]\n",
    "]\n",
    "alpha = 0.05"
   ]
  },
  {
   "cell_type": "code",
   "execution_count": 16,
   "id": "ed8c2025-c487-4bd6-8895-23d8b86bec60",
   "metadata": {},
   "outputs": [],
   "source": [
    "odds_ratio, p_value = fisher_exact(observed)"
   ]
  },
  {
   "cell_type": "code",
   "execution_count": 17,
   "id": "a687ac65-cba5-4546-a7cc-1ff98c3ef57a",
   "metadata": {},
   "outputs": [
    {
     "name": "stdout",
     "output_type": "stream",
     "text": [
      "Отношение шансов: 0.2222\n",
      "P-значение: 0.1152\n"
     ]
    }
   ],
   "source": [
    "print(f\"Отношение шансов: {odds_ratio:.4f}\")\n",
    "print(f\"P-значение: {p_value:.4f}\")"
   ]
  },
  {
   "cell_type": "code",
   "execution_count": 18,
   "id": "91120865-50c1-4f59-b815-672b03f0a11d",
   "metadata": {},
   "outputs": [
    {
     "name": "stdout",
     "output_type": "stream",
     "text": [
      "Нет оснований отвергать H0: пол и предпочтения политической партии не связаны\n"
     ]
    }
   ],
   "source": [
    "if p_value < alpha:\n",
    "    print(\"Отвергаем H0: пол связан с предпочтениями политической партии\")\n",
    "else:\n",
    "    print(\"Нет оснований отвергать H0: пол и предпочтения политической партии не связаны\")"
   ]
  },
  {
   "cell_type": "markdown",
   "id": "ac77c6b2-106b-4b5d-a8ea-8659b9463a3b",
   "metadata": {},
   "source": [
    "### **Задача 5. Сравнение эффективности программ подготовки к экзаменам.**\n",
    "Предположим, что мы хотим узнать, одинаковы ли по эффективности три\n",
    "разных программ подготовки к экзаменам. Ниже приведена таблица с\n",
    "оценками студентов, обучавшихся по соответственным программам.\n",
    "Проведите анализ того, различаются ли программы по эффективности и\n",
    "предположите, какая из них наилучшая/наихудшая. Оба пункта следует\n",
    "подкрепить соответствующими методами."
   ]
  },
  {
   "cell_type": "code",
   "execution_count": 22,
   "id": "b5203f38-0512-4e1e-a9bc-fb1da452ab8d",
   "metadata": {},
   "outputs": [
    {
     "data": {
      "text/html": [
       "<div>\n",
       "<style scoped>\n",
       "    .dataframe tbody tr th:only-of-type {\n",
       "        vertical-align: middle;\n",
       "    }\n",
       "\n",
       "    .dataframe tbody tr th {\n",
       "        vertical-align: top;\n",
       "    }\n",
       "\n",
       "    .dataframe thead th {\n",
       "        text-align: right;\n",
       "    }\n",
       "</style>\n",
       "<table border=\"1\" class=\"dataframe\">\n",
       "  <thead>\n",
       "    <tr style=\"text-align: right;\">\n",
       "      <th></th>\n",
       "      <th>Group 1</th>\n",
       "      <th>Group 2</th>\n",
       "      <th>Group 3</th>\n",
       "    </tr>\n",
       "  </thead>\n",
       "  <tbody>\n",
       "    <tr>\n",
       "      <th>0</th>\n",
       "      <td>85</td>\n",
       "      <td>91</td>\n",
       "      <td>79</td>\n",
       "    </tr>\n",
       "    <tr>\n",
       "      <th>1</th>\n",
       "      <td>86</td>\n",
       "      <td>92</td>\n",
       "      <td>78</td>\n",
       "    </tr>\n",
       "    <tr>\n",
       "      <th>2</th>\n",
       "      <td>88</td>\n",
       "      <td>93</td>\n",
       "      <td>88</td>\n",
       "    </tr>\n",
       "    <tr>\n",
       "      <th>3</th>\n",
       "      <td>75</td>\n",
       "      <td>85</td>\n",
       "      <td>94</td>\n",
       "    </tr>\n",
       "    <tr>\n",
       "      <th>4</th>\n",
       "      <td>78</td>\n",
       "      <td>87</td>\n",
       "      <td>82</td>\n",
       "    </tr>\n",
       "    <tr>\n",
       "      <th>5</th>\n",
       "      <td>94</td>\n",
       "      <td>84</td>\n",
       "      <td>85</td>\n",
       "    </tr>\n",
       "    <tr>\n",
       "      <th>6</th>\n",
       "      <td>98</td>\n",
       "      <td>82</td>\n",
       "      <td>83</td>\n",
       "    </tr>\n",
       "    <tr>\n",
       "      <th>7</th>\n",
       "      <td>79</td>\n",
       "      <td>88</td>\n",
       "      <td>85</td>\n",
       "    </tr>\n",
       "    <tr>\n",
       "      <th>8</th>\n",
       "      <td>71</td>\n",
       "      <td>95</td>\n",
       "      <td>82</td>\n",
       "    </tr>\n",
       "    <tr>\n",
       "      <th>9</th>\n",
       "      <td>80</td>\n",
       "      <td>96</td>\n",
       "      <td>81</td>\n",
       "    </tr>\n",
       "  </tbody>\n",
       "</table>\n",
       "</div>"
      ],
      "text/plain": [
       "   Group 1  Group 2  Group 3\n",
       "0       85       91       79\n",
       "1       86       92       78\n",
       "2       88       93       88\n",
       "3       75       85       94\n",
       "4       78       87       82\n",
       "5       94       84       85\n",
       "6       98       82       83\n",
       "7       79       88       85\n",
       "8       71       95       82\n",
       "9       80       96       81"
      ]
     },
     "execution_count": 22,
     "metadata": {},
     "output_type": "execute_result"
    }
   ],
   "source": [
    "df = pd.read_excel('table_2_5.xlsx')\n",
    "df"
   ]
  },
  {
   "cell_type": "markdown",
   "id": "3a54572e-771d-4063-84fa-17a11515b99a",
   "metadata": {},
   "source": [
    "**РЕШЕНИЕ**"
   ]
  },
  {
   "cell_type": "markdown",
   "id": "166ab59f-16e0-4e3f-87c5-4fcec8445b39",
   "metadata": {},
   "source": [
    "**Выбранный статистический метод**: ANOVA и тест Тьюки, так как нам нужно сравнить средние значения между группами, для чего подходит ANOVA, а затем для анализа результатов, полученных с помощью ANOVA, будет использован тест Кьюки для попарного сравнения групп."
   ]
  },
  {
   "cell_type": "markdown",
   "id": "81e454d7-161a-447c-a174-2940233888df",
   "metadata": {},
   "source": [
    "$H_0$: Все три программы подготовки к экзаменам одинаково эффективны (средние оценки в группах равны)\n",
    " \n",
    "$H_1$: Средние оценки в группах различаются (хотя бы одна программа отличается по эффективности)"
   ]
  },
  {
   "cell_type": "code",
   "execution_count": 24,
   "id": "c922f1be-f3a7-4ddb-86f7-671c258986c9",
   "metadata": {},
   "outputs": [
    {
     "name": "stdout",
     "output_type": "stream",
     "text": [
      "Тест Шапиро-Уилка для Group 1: p-значение = 0.9053 => остатки распределены нормально\n",
      "Тест Шапиро-Уилка для Group 2: p-значение = 0.7314 => остатки распределены нормально\n",
      "Тест Шапиро-Уилка для Group 3: p-значение = 0.3285 => остатки распределены нормально\n"
     ]
    }
   ],
   "source": [
    "# Проверка нормальности остатков (тест Шапиро-Уилка)\n",
    "for group in df.keys():\n",
    "    stat, p = shapiro(df[group])\n",
    "    if p < 0.05:\n",
    "        print(f\"Тест Шапиро-Уилка для {group}: p-значение = {p:.4f} => остатки распределены ненормально\")\n",
    "    else:\n",
    "        print(f\"Тест Шапиро-Уилка для {group}: p-значение = {p:.4f} => остатки распределены нормально\")"
   ]
  },
  {
   "cell_type": "code",
   "execution_count": 25,
   "id": "e88891fa-a008-4ef3-acd5-8ed2e1f44743",
   "metadata": {},
   "outputs": [
    {
     "name": "stdout",
     "output_type": "stream",
     "text": [
      "Тест Левена: p-значение = 0.0806 => дисперсии в группах однородны\n"
     ]
    }
   ],
   "source": [
    "# Проверка гомогенности дисперсий (тест Левена)\n",
    "stat, p = levene(df['Group 1'], df['Group 2'], df['Group 3'])\n",
    "if p < 0.05:\n",
    "    print(f\"Тест Левена: p-значение = {p:.4f} => дисперсии в группах неоднородны\")\n",
    "else:\n",
    "    print(f\"Тест Левена: p-значение = {p:.4f} => дисперсии в группах однородны\")"
   ]
  },
  {
   "cell_type": "markdown",
   "id": "8686084f-84be-4506-8563-659dba763a16",
   "metadata": {},
   "source": [
    "Оба условия выполняются, можно использовать ANOVA"
   ]
  },
  {
   "cell_type": "code",
   "execution_count": 26,
   "id": "803b8616-5337-4a3e-b0a1-0646debbdb78",
   "metadata": {},
   "outputs": [
    {
     "name": "stdout",
     "output_type": "stream",
     "text": [
      "ANOVA: F-статистика = 2.8544, p-значение = 0.0751 => Нет оснований отвергать H0: все три программы подготовки к экзаменам одинаково эффективны\n"
     ]
    }
   ],
   "source": [
    "f_stat, p_value = f_oneway(df['Group 1'], df['Group 2'], df['Group 3'])\n",
    "if p < 0.05:\n",
    "    print(f\"ANOVA: F-статистика = {f_stat:.4f}, p-значение = {p_value:.4f} => Отвергаем H0: средние оценки в группах различаются\")\n",
    "else:\n",
    "    print(f\"ANOVA: F-статистика = {f_stat:.4f}, p-значение = {p_value:.4f} => Нет оснований отвергать H0: все три программы подготовки к экзаменам одинаково эффективны\")"
   ]
  },
  {
   "cell_type": "code",
   "execution_count": 27,
   "id": "497ca3c4-1942-4d3c-823d-9aec1801c325",
   "metadata": {},
   "outputs": [
    {
     "name": "stdout",
     "output_type": "stream",
     "text": [
      " Multiple Comparison of Means - Tukey HSD, FWER=0.05 \n",
      "=====================================================\n",
      " group1  group2 meandiff p-adj   lower  upper  reject\n",
      "-----------------------------------------------------\n",
      "Group 1 Group 2      5.9 0.1044  -0.997 12.797  False\n",
      "Group 1 Group 3      0.3 0.9936  -6.597  7.197  False\n",
      "Group 2 Group 3     -5.6 0.1283 -12.497  1.297  False\n",
      "-----------------------------------------------------\n"
     ]
    }
   ],
   "source": [
    "stacked_data = df.stack().reset_index()\n",
    "stacked_data.columns = ['Index', 'Group', 'Score']\n",
    "res = pairwise_tukeyhsd(stacked_data['Score'], stacked_data['Group'])\n",
    "print(res)"
   ]
  },
  {
   "cell_type": "markdown",
   "id": "177ea2e0-67bd-426d-9c5b-05deb4654cd6",
   "metadata": {},
   "source": [
    "На основе теста Тьюки можно сделать вывод, что нет статистически значимых различий между группами. Однако можно сделать предположения о том, какая программа может быть \"лучше\" или \"хуже\" на основе сравнения средних значений.\n",
    "\n",
    "Таким образом:\n",
    "\n",
    "- **Наилучшая программа** : Group 2\n",
    "- **Наихудшая программа** : Group 1\n",
    "\n",
    "Однако так как все различия между программами статистически незначимы, поэтому такие выводы носят предположительный характер."
   ]
  },
  {
   "cell_type": "markdown",
   "id": "7c5877e0-2ff6-4cdd-a475-4b617269b576",
   "metadata": {},
   "source": [
    "### **Задача 6. Сравнение эффективности стратегий выращивания растений**\n",
    "Было проведено исследование эффективности различных стратегий посева. В\n",
    "исследовании участвовали две категорные переменные: используемое\n",
    "удобрение и плотность посадки. Выяснить, есть ли различие между разными\n",
    "вариантами взращивания, а также провести post-hoc анализ на основе\n",
    "визуализации результатов, который позволит выяснить, как соотносится\n",
    "эффективность стратегий. Оба пункта подкрепить соответствующими\n",
    "тестами.\n",
    "\n",
    "Данные находятся в файле Task6_data.csv"
   ]
  },
  {
   "cell_type": "markdown",
   "id": "a29bc650-3573-4835-8a25-b46005df20b5",
   "metadata": {},
   "source": [
    "**РЕШЕНИЕ**"
   ]
  },
  {
   "cell_type": "markdown",
   "id": "edb50a6b-52b1-4a1f-90da-7cf8b984a5b9",
   "metadata": {},
   "source": [
    "**Выбранный статистический метод**: ANOVA и тест Тьюки, так как ANOVA используется для сравнения средних значений между группами, а затем для анализа результатов, полученных с помощью ANOVA, будет использован тест Кьюки для попарного сравнения групп."
   ]
  },
  {
   "cell_type": "code",
   "execution_count": 28,
   "id": "401cf6ba-43c5-4330-8060-e201bfaac978",
   "metadata": {},
   "outputs": [
    {
     "data": {
      "text/html": [
       "<div>\n",
       "<style scoped>\n",
       "    .dataframe tbody tr th:only-of-type {\n",
       "        vertical-align: middle;\n",
       "    }\n",
       "\n",
       "    .dataframe tbody tr th {\n",
       "        vertical-align: top;\n",
       "    }\n",
       "\n",
       "    .dataframe thead th {\n",
       "        text-align: right;\n",
       "    }\n",
       "</style>\n",
       "<table border=\"1\" class=\"dataframe\">\n",
       "  <thead>\n",
       "    <tr style=\"text-align: right;\">\n",
       "      <th></th>\n",
       "      <th>density</th>\n",
       "      <th>block</th>\n",
       "      <th>fertilizer</th>\n",
       "      <th>yield</th>\n",
       "    </tr>\n",
       "  </thead>\n",
       "  <tbody>\n",
       "    <tr>\n",
       "      <th>0</th>\n",
       "      <td>1</td>\n",
       "      <td>1</td>\n",
       "      <td>1</td>\n",
       "      <td>177.228692</td>\n",
       "    </tr>\n",
       "    <tr>\n",
       "      <th>1</th>\n",
       "      <td>2</td>\n",
       "      <td>2</td>\n",
       "      <td>1</td>\n",
       "      <td>177.550041</td>\n",
       "    </tr>\n",
       "    <tr>\n",
       "      <th>2</th>\n",
       "      <td>1</td>\n",
       "      <td>3</td>\n",
       "      <td>1</td>\n",
       "      <td>176.408462</td>\n",
       "    </tr>\n",
       "    <tr>\n",
       "      <th>3</th>\n",
       "      <td>2</td>\n",
       "      <td>4</td>\n",
       "      <td>1</td>\n",
       "      <td>177.703625</td>\n",
       "    </tr>\n",
       "    <tr>\n",
       "      <th>4</th>\n",
       "      <td>1</td>\n",
       "      <td>1</td>\n",
       "      <td>1</td>\n",
       "      <td>177.125486</td>\n",
       "    </tr>\n",
       "  </tbody>\n",
       "</table>\n",
       "</div>"
      ],
      "text/plain": [
       "   density  block  fertilizer       yield\n",
       "0        1      1           1  177.228692\n",
       "1        2      2           1  177.550041\n",
       "2        1      3           1  176.408462\n",
       "3        2      4           1  177.703625\n",
       "4        1      1           1  177.125486"
      ]
     },
     "execution_count": 28,
     "metadata": {},
     "output_type": "execute_result"
    }
   ],
   "source": [
    "df = pd.read_csv('Task6_data.csv')\n",
    "df.head()"
   ]
  },
  {
   "cell_type": "markdown",
   "id": "e6973013-3321-45bd-9897-c93b5b63c3fb",
   "metadata": {},
   "source": [
    "$H_0$: Нет значимых различий в урожайности между стратегиями взращивания\n",
    "\n",
    "$H_1$: Существуют значимые различия в урожайности между стратегиями взращивания"
   ]
  },
  {
   "cell_type": "code",
   "execution_count": 29,
   "id": "d3fb5b31-2ef8-4798-80ea-b5f18ed00297",
   "metadata": {},
   "outputs": [
    {
     "data": {
      "text/html": [
       "<div>\n",
       "<style scoped>\n",
       "    .dataframe tbody tr th:only-of-type {\n",
       "        vertical-align: middle;\n",
       "    }\n",
       "\n",
       "    .dataframe tbody tr th {\n",
       "        vertical-align: top;\n",
       "    }\n",
       "\n",
       "    .dataframe thead th {\n",
       "        text-align: right;\n",
       "    }\n",
       "</style>\n",
       "<table border=\"1\" class=\"dataframe\">\n",
       "  <thead>\n",
       "    <tr style=\"text-align: right;\">\n",
       "      <th></th>\n",
       "      <th>density</th>\n",
       "      <th>block</th>\n",
       "      <th>fertilizer</th>\n",
       "      <th>Yield</th>\n",
       "    </tr>\n",
       "  </thead>\n",
       "  <tbody>\n",
       "    <tr>\n",
       "      <th>0</th>\n",
       "      <td>1</td>\n",
       "      <td>1</td>\n",
       "      <td>1</td>\n",
       "      <td>177.228692</td>\n",
       "    </tr>\n",
       "    <tr>\n",
       "      <th>1</th>\n",
       "      <td>2</td>\n",
       "      <td>2</td>\n",
       "      <td>1</td>\n",
       "      <td>177.550041</td>\n",
       "    </tr>\n",
       "    <tr>\n",
       "      <th>2</th>\n",
       "      <td>1</td>\n",
       "      <td>3</td>\n",
       "      <td>1</td>\n",
       "      <td>176.408462</td>\n",
       "    </tr>\n",
       "    <tr>\n",
       "      <th>3</th>\n",
       "      <td>2</td>\n",
       "      <td>4</td>\n",
       "      <td>1</td>\n",
       "      <td>177.703625</td>\n",
       "    </tr>\n",
       "    <tr>\n",
       "      <th>4</th>\n",
       "      <td>1</td>\n",
       "      <td>1</td>\n",
       "      <td>1</td>\n",
       "      <td>177.125486</td>\n",
       "    </tr>\n",
       "  </tbody>\n",
       "</table>\n",
       "</div>"
      ],
      "text/plain": [
       "   density  block  fertilizer       Yield\n",
       "0        1      1           1  177.228692\n",
       "1        2      2           1  177.550041\n",
       "2        1      3           1  176.408462\n",
       "3        2      4           1  177.703625\n",
       "4        1      1           1  177.125486"
      ]
     },
     "execution_count": 29,
     "metadata": {},
     "output_type": "execute_result"
    }
   ],
   "source": [
    "df.rename(columns={'yield': 'Yield'}, inplace=True)\n",
    "df.head()"
   ]
  },
  {
   "cell_type": "code",
   "execution_count": 30,
   "id": "b013c362-fab4-47ad-bd97-f1a649a722f3",
   "metadata": {},
   "outputs": [
    {
     "name": "stdout",
     "output_type": "stream",
     "text": [
      "                    count        mean       std         min         25%  \\\n",
      "density fertilizer                                                        \n",
      "1       1            16.0  176.439598  0.586100  175.360840  176.091059   \n",
      "        2            16.0  176.778288  0.541398  175.747546  176.433436   \n",
      "        3            16.0  177.135608  0.510261  176.300517  176.978884   \n",
      "2       1            16.0  177.074491  0.641108  175.882780  176.808027   \n",
      "        2            16.0  177.088139  0.580310  176.044342  176.863942   \n",
      "        3            16.0  177.576732  0.614552  176.430830  177.155771   \n",
      "\n",
      "                           50%         75%         max  \n",
      "density fertilizer                                      \n",
      "1       1           176.256983  176.841098  177.479507  \n",
      "        2           176.749795  177.206566  177.580683  \n",
      "        3           177.109716  177.460317  178.141644  \n",
      "2       1           177.045854  177.345257  178.357441  \n",
      "        2           177.004950  177.354651  178.134605  \n",
      "        3           177.566818  177.855058  179.060899  \n"
     ]
    }
   ],
   "source": [
    "print(df.groupby(['density', 'fertilizer'])['Yield'].describe())"
   ]
  },
  {
   "cell_type": "code",
   "execution_count": 31,
   "id": "933fe3ae-a103-4f00-b56a-c015b554c33a",
   "metadata": {},
   "outputs": [],
   "source": [
    "model = ols('Yield ~ C(density) * C(fertilizer)', data=df).fit()"
   ]
  },
  {
   "cell_type": "code",
   "execution_count": 32,
   "id": "e9457240-2f6c-43a6-ae4f-e057e99e2582",
   "metadata": {},
   "outputs": [
    {
     "name": "stdout",
     "output_type": "stream",
     "text": [
      "Тест Шапиро-Уилка: p-значение = 0.3601 => остатки распределены нормально\n"
     ]
    }
   ],
   "source": [
    "# Проверка нормальности остатков (тест Шапиро-Уилка)\n",
    "residuals = model.resid\n",
    "stat, p = shapiro(residuals)\n",
    "if p < 0.05:\n",
    "    print(f\"Тест Шапиро-Уилка: p-значение = {p:.4f} => остатки распределены ненормально\")\n",
    "else:\n",
    "    print(f\"Тест Шапиро-Уилка: p-значение = {p:.4f} => остатки распределены нормально\")"
   ]
  },
  {
   "cell_type": "code",
   "execution_count": 33,
   "id": "7f5837ba-0dc3-4f53-813e-95391cbde485",
   "metadata": {},
   "outputs": [
    {
     "name": "stdout",
     "output_type": "stream",
     "text": [
      "Тест Левена: p-значение = 0.9768 => дисперсии в группах однородны\n"
     ]
    }
   ],
   "source": [
    "# Проверка гомогенности дисперсий (тест Левена)\n",
    "groups = df.groupby(['density', 'fertilizer'])['Yield'].apply(list)\n",
    "stat, p = levene(*groups)\n",
    "if p < 0.05:\n",
    "    print(f\"Тест Левена: p-значение = {p:.4f} => дисперсии в группах неоднородны\")\n",
    "else:\n",
    "    print(f\"Тест Левена: p-значение = {p:.4f} => дисперсии в группах однородны\")"
   ]
  },
  {
   "cell_type": "markdown",
   "id": "d015770f-4934-41c3-a207-f8b6816f08a0",
   "metadata": {},
   "source": [
    "Оба условия выполняются, можно использовать ANOVA"
   ]
  },
  {
   "cell_type": "code",
   "execution_count": 34,
   "id": "452665bd-2ce3-45d6-8b6d-dcbe2d8a3d97",
   "metadata": {},
   "outputs": [
    {
     "name": "stdout",
     "output_type": "stream",
     "text": [
      "\n",
      "ANOVA Table:\n",
      "                             sum_sq    df          F    PR(>F)\n",
      "C(density)                 5.121681   1.0  15.194517  0.000186\n",
      "C(fertilizer)              6.068047   2.0   9.001052  0.000273\n",
      "C(density):C(fertilizer)   0.427818   2.0   0.634605  0.532500\n",
      "Residual                  30.336687  90.0        NaN       NaN\n"
     ]
    }
   ],
   "source": [
    "anova_table = sm.stats.anova_lm(model, typ=2)\n",
    "print(\"\\nANOVA Table:\")\n",
    "print(anova_table)"
   ]
  },
  {
   "cell_type": "markdown",
   "id": "98284e5b-39f7-4110-b1f5-14cd1a7be1e0",
   "metadata": {},
   "source": [
    "**Вывод на основе таблицы ANOVA**:\n",
    "\n",
    "1. Плотность посадки (density) :\n",
    "- Значимо влияет на урожайность (p < 0.05 => отвергаем $H_0$).\n",
    "- Различия в плотности посадки приводят к различиям в урожайности.\n",
    "\n",
    "2. Тип удобрения (fertilizer) :\n",
    "- Значимо влияет на урожайность (p < 0.05 => отвергаем $H_0$).\n",
    "- Разные типы удобрений приводят к различиям в урожайности.\n",
    "\n",
    "3. Взаимодействие между плотностью и типом удобрения (density:fertilizer):\n",
    "- Не оказывает значимого влияния на урожайность (p > 0.05 => нельзя отвергнуть $H_0$).\n",
    "- Эффект плотности и удобрения можно рассматривать независимо друг от друга."
   ]
  },
  {
   "cell_type": "code",
   "execution_count": 35,
   "id": "b6bb4d35-a7d4-487e-8536-fc62ba750598",
   "metadata": {},
   "outputs": [
    {
     "name": "stdout",
     "output_type": "stream",
     "text": [
      "\n",
      "Тест Тьюки для фактора fertilizer:\n",
      "Multiple Comparison of Means - Tukey HSD, FWER=0.05\n",
      "===================================================\n",
      "group1 group2 meandiff p-adj   lower  upper  reject\n",
      "---------------------------------------------------\n",
      "     1      2   0.1762 0.4955 -0.1937 0.5461  False\n",
      "     1      3   0.5991 0.0006  0.2292  0.969   True\n",
      "     2      3    0.423 0.0209  0.0531 0.7928   True\n",
      "---------------------------------------------------\n"
     ]
    }
   ],
   "source": [
    "tukey_fertilizer = pairwise_tukeyhsd(endog=df['Yield'], groups=df['fertilizer'], alpha=0.05)\n",
    "print(\"\\nТест Тьюки для фактора fertilizer:\")\n",
    "print(tukey_fertilizer)"
   ]
  },
  {
   "cell_type": "code",
   "execution_count": 36,
   "id": "19b6f6a8-3e84-44cb-87e0-7e8a3ce18536",
   "metadata": {},
   "outputs": [
    {
     "name": "stdout",
     "output_type": "stream",
     "text": [
      "\n",
      "Тест Тьюки для фактора density:\n",
      "Multiple Comparison of Means - Tukey HSD, FWER=0.05\n",
      "==================================================\n",
      "group1 group2 meandiff p-adj  lower  upper  reject\n",
      "--------------------------------------------------\n",
      "     1      2    0.462 0.0005 0.2083 0.7157   True\n",
      "--------------------------------------------------\n"
     ]
    }
   ],
   "source": [
    "tukey_density = pairwise_tukeyhsd(endog=df['Yield'], groups=df['density'], alpha=0.05)\n",
    "print(\"\\nТест Тьюки для фактора density:\")\n",
    "print(tukey_density)"
   ]
  },
  {
   "cell_type": "code",
   "execution_count": 37,
   "id": "557d3914-5394-4adb-80bb-670a0d05b9cc",
   "metadata": {},
   "outputs": [
    {
     "data": {
      "text/plain": [
       "Text(0, 0.5, 'Урожайность')"
      ]
     },
     "execution_count": 37,
     "metadata": {},
     "output_type": "execute_result"
    },
    {
     "data": {
      "image/png": "[encoded data removed]",
      "text/plain": [
       "<Figure size 1200x600 with 2 Axes>"
      ]
     },
     "metadata": {},
     "output_type": "display_data"
    }
   ],
   "source": [
    "plt.figure(figsize=(12,6))\n",
    "\n",
    "# Boxplot для fertilizer\n",
    "plt.subplot(1, 2, 1)\n",
    "sns.boxplot(x='fertilizer', y='Yield', data=df)\n",
    "plt.title(\"Урожайность в зависимости от типа удобрения\")\n",
    "plt.xlabel(\"Тип удобрения\")\n",
    "plt.ylabel(\"Урожайность\")\n",
    "\n",
    "# Boxplot для density\n",
    "plt.subplot(1, 2, 2)\n",
    "sns.boxplot(x='density', y='Yield', data=df)\n",
    "plt.title(\"Урожайность в зависимости от плотности посадки\")\n",
    "plt.xlabel(\"Плотности посадки\")\n",
    "plt.ylabel(\"Урожайность\")"
   ]
  },
  {
   "cell_type": "markdown",
   "id": "438149d6-ba78-42f5-b424-00ff6dba5561",
   "metadata": {},
   "source": [
    "**Интерпретация для сравнения урожайности в зависимости от типа удобрения:**\n",
    "\n",
    "- Урожайность при использовании удобрения 1 и удобрения 2 статистически не отличается (reject = False)\n",
    "- Урожайность при использовании удобрения 3 статистически выше, чем при использовании удобрения 1 (reject = True)\n",
    "- Урожайность при использовании удобрения 3 статистически выше, чем при использовании удобрения 2 (reject = True)\n",
    "- Удобрение 3 показывает наибольшую урожайность , а удобрения 1 и 2 имеют схожие значения урожайности, которые статистически не отличаются друг от друга\n",
    "\n",
    "**Интерпретация для сравнения урожайности в зависимости от плотности посадки:**\n",
    "- Урожайность при плотности посадки 2 статистически выше, чем при плотности посадки 1 (reject = True)"
   ]
  },
  {
   "cell_type": "markdown",
   "id": "71af840a-1e30-4c30-9292-bc86d3e0e4ec",
   "metadata": {},
   "source": [
    "**Для максимальной урожайности рекомендуется использовать**:\n",
    "- Удобрение 3\n",
    "- Плотность посадки 2"
   ]
  },
  {
   "cell_type": "code",
   "execution_count": null,
   "id": "8c9d7375-3040-4266-8b1d-abb155008533",
   "metadata": {},
   "outputs": [],
   "source": []
  }
 ],
 "metadata": {
  "kernelspec": {
   "display_name": "Python (ds)",
   "language": "python",
   "name": "ds"
  },
  "language_info": {
   "codemirror_mode": {
    "name": "ipython",
    "version": 3
   },
   "file_extension": ".py",
   "mimetype": "text/x-python",
   "name": "python",
   "nbconvert_exporter": "python",
   "pygments_lexer": "ipython3",
   "version": "3.9.21"
  }
 },
 "nbformat": 4,
 "nbformat_minor": 5
}
